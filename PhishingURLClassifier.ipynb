{
 "cells": [
  {
   "cell_type": "code",
   "execution_count": 2,
   "metadata": {},
   "outputs": [
    {
     "name": "stdout",
     "output_type": "stream",
     "text": [
      "Dataset head:\n",
      "                                                  url  length_url  \\\n",
      "0              http://www.crestonwood.com/router.php          37   \n",
      "1  http://shadetreetechnology.com/V4/validation/a...          77   \n",
      "2  https://support-appleld.com.secureupdate.duila...         126   \n",
      "3                                 http://rgipt.ac.in          18   \n",
      "4  http://www.iracing.com/tracks/gateway-motorspo...          55   \n",
      "\n",
      "   length_hostname  ip  nb_dots  nb_hyphens  nb_at  nb_qm  nb_and  nb_or  ...  \\\n",
      "0               19   0        3           0      0      0       0      0  ...   \n",
      "1               23   1        1           0      0      0       0      0  ...   \n",
      "2               50   1        4           1      0      1       2      0  ...   \n",
      "3               11   0        2           0      0      0       0      0  ...   \n",
      "4               15   0        2           2      0      0       0      0  ...   \n",
      "\n",
      "   domain_in_title  domain_with_copyright  whois_registered_domain  \\\n",
      "0                0                      1                        0   \n",
      "1                1                      0                        0   \n",
      "2                1                      0                        0   \n",
      "3                1                      0                        0   \n",
      "4                0                      1                        0   \n",
      "\n",
      "   domain_registration_length  domain_age  web_traffic  dns_record  \\\n",
      "0                          45          -1            0           1   \n",
      "1                          77        5767            0           0   \n",
      "2                          14        4004      5828815           0   \n",
      "3                          62          -1       107721           0   \n",
      "4                         224        8175         8725           0   \n",
      "\n",
      "   google_index  page_rank      status  \n",
      "0             1          4  legitimate  \n",
      "1             1          2    phishing  \n",
      "2             1          0    phishing  \n",
      "3             0          3  legitimate  \n",
      "4             0          6  legitimate  \n",
      "\n",
      "[5 rows x 89 columns]\n",
      "\n",
      "Columns:\n",
      " Index(['url', 'length_url', 'length_hostname', 'ip', 'nb_dots', 'nb_hyphens',\n",
      "       'nb_at', 'nb_qm', 'nb_and', 'nb_or', 'nb_eq', 'nb_underscore',\n",
      "       'nb_tilde', 'nb_percent', 'nb_slash', 'nb_star', 'nb_colon', 'nb_comma',\n",
      "       'nb_semicolumn', 'nb_dollar', 'nb_space', 'nb_www', 'nb_com',\n",
      "       'nb_dslash', 'http_in_path', 'https_token', 'ratio_digits_url',\n",
      "       'ratio_digits_host', 'punycode', 'port', 'tld_in_path',\n",
      "       'tld_in_subdomain', 'abnormal_subdomain', 'nb_subdomains',\n",
      "       'prefix_suffix', 'random_domain', 'shortening_service',\n",
      "       'path_extension', 'nb_redirection', 'nb_external_redirection',\n",
      "       'length_words_raw', 'char_repeat', 'shortest_words_raw',\n",
      "       'shortest_word_host', 'shortest_word_path', 'longest_words_raw',\n",
      "       'longest_word_host', 'longest_word_path', 'avg_words_raw',\n",
      "       'avg_word_host', 'avg_word_path', 'phish_hints', 'domain_in_brand',\n",
      "       'brand_in_subdomain', 'brand_in_path', 'suspecious_tld',\n",
      "       'statistical_report', 'nb_hyperlinks', 'ratio_intHyperlinks',\n",
      "       'ratio_extHyperlinks', 'ratio_nullHyperlinks', 'nb_extCSS',\n",
      "       'ratio_intRedirection', 'ratio_extRedirection', 'ratio_intErrors',\n",
      "       'ratio_extErrors', 'login_form', 'external_favicon', 'links_in_tags',\n",
      "       'submit_email', 'ratio_intMedia', 'ratio_extMedia', 'sfh', 'iframe',\n",
      "       'popup_window', 'safe_anchor', 'onmouseover', 'right_clic',\n",
      "       'empty_title', 'domain_in_title', 'domain_with_copyright',\n",
      "       'whois_registered_domain', 'domain_registration_length', 'domain_age',\n",
      "       'web_traffic', 'dns_record', 'google_index', 'page_rank', 'status'],\n",
      "      dtype='object')\n",
      "\n",
      "Data types:\n",
      " url                object\n",
      "length_url          int64\n",
      "length_hostname     int64\n",
      "ip                  int64\n",
      "nb_dots             int64\n",
      "                    ...  \n",
      "web_traffic         int64\n",
      "dns_record          int64\n",
      "google_index        int64\n",
      "page_rank           int64\n",
      "status             object\n",
      "Length: 89, dtype: object\n",
      "\n",
      "Dataset shape: (11430, 89)\n"
     ]
    }
   ],
   "source": [
    "# Import necessary libraries\n",
    "import pandas as pd\n",
    "\n",
    "# Load the dataset\n",
    "url_data = pd.read_csv('URL_dataset_phishing.csv')\n",
    "\n",
    "# Display the first few rows to understand the structure\n",
    "print(\"Dataset head:\\n\", url_data.head())\n",
    "print(\"\\nColumns:\\n\", url_data.columns)\n",
    "print(\"\\nData types:\\n\", url_data.dtypes)\n",
    "print(\"\\nDataset shape:\", url_data.shape)"
   ]
  },
  {
   "cell_type": "code",
   "execution_count": 3,
   "metadata": {},
   "outputs": [
    {
     "name": "stdout",
     "output_type": "stream",
     "text": [
      "Training set shape: (9144, 87)\n",
      "Testing set shape: (2286, 87)\n",
      "Target variable distribution:\n",
      " status\n",
      "0    5715\n",
      "1    5715\n",
      "Name: count, dtype: int64\n"
     ]
    }
   ],
   "source": [
    "from sklearn.model_selection import train_test_split\n",
    "from sklearn.preprocessing import LabelEncoder\n",
    "\n",
    "# Encode the target variable 'status' (1 for phishing, 0 for legitimate)\n",
    "label_encoder = LabelEncoder()\n",
    "url_data['status'] = label_encoder.fit_transform(url_data['status'])\n",
    "\n",
    "# Separate features and target\n",
    "X = url_data.drop(columns=['url', 'status'])  # Dropping 'url' column as it's not needed for training\n",
    "y = url_data['status']\n",
    "\n",
    "# Split the dataset into training and testing sets (80% training, 20% test)\n",
    "X_train, X_test, y_train, y_test = train_test_split(X, y, test_size=0.2, random_state=42)\n",
    "\n",
    "# Display shapes of the resulting datasets\n",
    "print(\"Training set shape:\", X_train.shape)\n",
    "print(\"Testing set shape:\", X_test.shape)\n",
    "print(\"Target variable distribution:\\n\", y.value_counts())"
   ]
  },
  {
   "cell_type": "code",
   "execution_count": 4,
   "metadata": {},
   "outputs": [
    {
     "name": "stdout",
     "output_type": "stream",
     "text": [
      "Accuracy of the Random Forest model: 0.9693788276465442\n",
      "\n",
      "Classification Report:\n",
      "               precision    recall  f1-score   support\n",
      "\n",
      "           0       0.96      0.98      0.97      1157\n",
      "           1       0.97      0.96      0.97      1129\n",
      "\n",
      "    accuracy                           0.97      2286\n",
      "   macro avg       0.97      0.97      0.97      2286\n",
      "weighted avg       0.97      0.97      0.97      2286\n",
      "\n",
      "\n",
      "Confusion Matrix:\n",
      " [[1129   28]\n",
      " [  42 1087]]\n"
     ]
    },
    {
     "data": {
      "text/plain": [
       "['phishing_url_classifier.joblib']"
      ]
     },
     "execution_count": 4,
     "metadata": {},
     "output_type": "execute_result"
    }
   ],
   "source": [
    "from sklearn.ensemble import RandomForestClassifier\n",
    "from sklearn.metrics import accuracy_score, classification_report, confusion_matrix\n",
    "\n",
    "# Initialize the Random Forest model\n",
    "rf_model = RandomForestClassifier(n_estimators=100, random_state=42)\n",
    "\n",
    "# Train the model on the training data\n",
    "rf_model.fit(X_train, y_train)\n",
    "\n",
    "# Predict on the test data\n",
    "y_pred = rf_model.predict(X_test)\n",
    "\n",
    "# Evaluate the model\n",
    "accuracy = accuracy_score(y_test, y_pred)\n",
    "print(\"Accuracy of the Random Forest model:\", accuracy)\n",
    "print(\"\\nClassification Report:\\n\", classification_report(y_test, y_pred))\n",
    "print(\"\\nConfusion Matrix:\\n\", confusion_matrix(y_test, y_pred))\n",
    "\n",
    "# Save the trained model\n",
    "import joblib\n",
    "joblib.dump(rf_model, \"phishing_url_classifier.joblib\")"
   ]
  }
 ],
 "metadata": {
  "kernelspec": {
   "display_name": "fraudenv",
   "language": "python",
   "name": "python3"
  },
  "language_info": {
   "codemirror_mode": {
    "name": "ipython",
    "version": 3
   },
   "file_extension": ".py",
   "mimetype": "text/x-python",
   "name": "python",
   "nbconvert_exporter": "python",
   "pygments_lexer": "ipython3",
   "version": "3.10.5"
  }
 },
 "nbformat": 4,
 "nbformat_minor": 2
}
